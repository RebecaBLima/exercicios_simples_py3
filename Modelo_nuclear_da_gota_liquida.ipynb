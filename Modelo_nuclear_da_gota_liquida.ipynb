{
 "cells": [
  {
   "cell_type": "markdown",
   "metadata": {},
   "source": [
    "## Modelo nuclear da gota líquida\n",
    "\n",
    "*Introdução à Física Nuclear e de Partículas* - T1\n",
    "\n",
    "\n",
    "(1) Utilize a fórmula da massa semi-empírica (do modelo nuclear da gota líquida) pela:\n",
    "\n",
    "- linguagem R (código disponível em https://ragomes.if.ufg.br/p/34233-cursos); ou\n",
    "\n",
    "- qualquer outra linguagem ou até mesmo uma planilha eletrônica;\n",
    "\n",
    "para calcular a massa, a energia de ligação, e a energia de ligação por nucleon de 5 átomos estáveis.\n",
    "\n",
    " \n",
    "\n",
    "(2) Especifique qual ferramenta utilizou; e caso não tenha usado o código disponível, inclua uma figura do código ou da planilha utilizados.\n",
    "\n",
    " \n",
    "\n",
    "(3) Ainda, compare o valor da massa calculado com a massa medida (pode usar wikipedia ou qualquer outra referência) desses 5 átomos escolhidos, através do cálculo do erro percentual (tal como fizemos em aula).\n",
    "\n",
    " \n",
    "\n",
    "Obs.: bom divertimento, e aproveite para brincar com alguma linguagem de programação."
   ]
  },
  {
   "cell_type": "code",
   "execution_count": 16,
   "metadata": {},
   "outputs": [],
   "source": [
    "def M(Z,A):\n",
    "    #definindo as constantes\n",
    "    a1 = 0.01691\n",
    "    a2 = 0.01911\n",
    "    a3 = 0.000763\n",
    "    a4 = 0.10175\n",
    "    a5 = 0.012\n",
    "    #definindo as condições \n",
    "    if Z % 2 != 0:\n",
    "        a6 = 0              \n",
    "    elif Z % 2 == 0 and A % 2 == 0:\n",
    "        a6 = 1.\n",
    "    else:\n",
    "        a6 = -1.\n",
    "    return 1.007825*Z + 1.008665*(A-Z) - a1*A + a2*A**(2/3) +  a3*((Z**2)/(A**(1/3))) + a4*(((Z-(A/2))**2))/A + a6*a5*A**0.5"
   ]
  },
  {
   "cell_type": "code",
   "execution_count": 23,
   "metadata": {},
   "outputs": [
    {
     "name": "stdout",
     "output_type": "stream",
     "text": [
      "Calculando o valor da massa de U-238 usando a função M(Z,A): 238.23321040406904 MeV\n",
      "Comparando os valores das massas: 1.0007663160681064\n"
     ]
    }
   ],
   "source": [
    "#U-238\n",
    "m_U238 = 238.05078826 \n",
    "u1 = M(92,238) / m_U238\n",
    "\n",
    "print('Calculando o valor da massa de U-238 usando a função M(Z,A):', M(92,238), 'MeV')\n",
    "print('Comparando os valores das massas:', u1)"
   ]
  },
  {
   "cell_type": "code",
   "execution_count": 26,
   "metadata": {},
   "outputs": [
    {
     "name": "stdout",
     "output_type": "stream",
     "text": [
      "Calculando o valor da massa de Co-60 usando a função M(Z,A): 14.061284685791218 MeV\n",
      "Comparando os valores das massas: 1.0041449462768135\n"
     ]
    }
   ],
   "source": [
    "#C-14\n",
    "\n",
    "m_C14 = 14.0032420\n",
    "u2 = M(8,14) / m_C14\n",
    "\n",
    "print('Calculando o valor da massa de Co-60 usando a função M(Z,A):', M(8,14), 'MeV')\n",
    "print('Comparando os valores das massas:', u2)"
   ]
  },
  {
   "cell_type": "code",
   "execution_count": null,
   "metadata": {},
   "outputs": [],
   "source": [
    "#C-14\n",
    "\n",
    "m_C14 = 14.0032420\n",
    "u2 = M(8,14) / m_C14\n",
    "\n",
    "print('Calculando o valor da massa de Co-60 usando a função M(Z,A):', M(8,14), 'MeV')\n",
    "print('Comparando os valores das massas:', u2)"
   ]
  },
  {
   "cell_type": "code",
   "execution_count": null,
   "metadata": {},
   "outputs": [],
   "source": []
  },
  {
   "cell_type": "code",
   "execution_count": null,
   "metadata": {},
   "outputs": [],
   "source": []
  }
 ],
 "metadata": {
  "kernelspec": {
   "display_name": "Python 3",
   "language": "python",
   "name": "python3"
  },
  "language_info": {
   "codemirror_mode": {
    "name": "ipython",
    "version": 3
   },
   "file_extension": ".py",
   "mimetype": "text/x-python",
   "name": "python",
   "nbconvert_exporter": "python",
   "pygments_lexer": "ipython3",
   "version": "3.7.4"
  }
 },
 "nbformat": 4,
 "nbformat_minor": 2
}
