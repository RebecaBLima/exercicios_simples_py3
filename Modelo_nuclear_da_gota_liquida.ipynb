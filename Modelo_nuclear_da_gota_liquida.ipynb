{
 "cells": [
  {
   "cell_type": "markdown",
   "metadata": {},
   "source": [
    "## Modelo nuclear da gota líquida\n",
    "\n",
    "*Introdução à Física Nuclear e de Partículas* - T1\n",
    "\n",
    "\n",
    "(1) Utilize a fórmula da massa semi-empírica (do modelo nuclear da gota líquida) pela:\n",
    "\n",
    "- linguagem R (código disponível em https://ragomes.if.ufg.br/p/34233-cursos); ou\n",
    "\n",
    "- qualquer outra linguagem ou até mesmo uma planilha eletrônica;\n",
    "\n",
    "para calcular a massa, a energia de ligação, e a energia de ligação por nucleon de 5 átomos estáveis.\n",
    "\n",
    " \n",
    "\n",
    "(2) Especifique qual ferramenta utilizou: *Jupyter Notebook - Python 3*\n",
    "\n",
    " \n",
    "\n",
    "(3) Ainda, compare o valor da massa calculado com a massa medida (pode usar wikipedia ou qualquer outra referência) desses 5 átomos escolhidos, através do cálculo do erro percentual (tal como fizemos em aula).\n",
    "\n",
    " \n",
    "\n",
    "Obs.: bom divertimento, e aproveite para brincar com alguma linguagem de programação."
   ]
  },
  {
   "cell_type": "code",
   "execution_count": 2,
   "metadata": {},
   "outputs": [],
   "source": [
    "def M(Z,A):\n",
    "    #definindo as constantes\n",
    "    a1 = 0.01691\n",
    "    a2 = 0.01911\n",
    "    a3 = 0.000763\n",
    "    a4 = 0.10175\n",
    "    a5 = 0.012\n",
    "    #definindo as condições \n",
    "    if Z % 2 != 0:\n",
    "        a6 = 0              \n",
    "    elif Z % 2 == 0 and A % 2 == 0:\n",
    "        a6 = 1.\n",
    "    else:\n",
    "        a6 = -1.\n",
    "    return 1.007825*Z + 1.008665*(A-Z) - a1*A + a2*A**(2/3) +  a3*((Z**2)/(A**(1/3))) + a4*(((Z-(A/2))**2))/A + a6*a5*A**0.5"
   ]
  },
  {
   "cell_type": "markdown",
   "metadata": {},
   "source": [
    "#### Após definir a função com a fórmula da massa semi-empírica, as próximas 5 cédulas abaixo, iremos calcular a massa dos 5 elementos escolhidos:"
   ]
  },
  {
   "cell_type": "code",
   "execution_count": 3,
   "metadata": {},
   "outputs": [
    {
     "name": "stdout",
     "output_type": "stream",
     "text": [
      "Calculando o valor da massa de U-238 usando a função M(Z,A): 238.23321040406904 u\n",
      "Comparando os valores das massas: 1.0007663160681064\n"
     ]
    }
   ],
   "source": [
    "#U-238\n",
    "m_U238 = 238.05078826 \n",
    "u1 = M(92,238) / m_U238\n",
    "\n",
    "print('Calculando o valor da massa de U-238 usando a função M(Z,A):', M(92,238), 'u')\n",
    "print('Comparando os valores das massas:', u1)"
   ]
  },
  {
   "cell_type": "code",
   "execution_count": 4,
   "metadata": {},
   "outputs": [
    {
     "name": "stdout",
     "output_type": "stream",
     "text": [
      "Calculando o valor da massa de C-14 usando a função M(Z,A): 14.061284685791218 u\n",
      "Comparando os valores das massas: 1.0041449462768135\n"
     ]
    }
   ],
   "source": [
    "#C-14\n",
    "\n",
    "m_C14 = 14.0032420\n",
    "u2 = M(8,14) / m_C14\n",
    "\n",
    "print('Calculando o valor da massa de C-14 usando a função M(Z,A):', M(8,14), 'u')\n",
    "print('Comparando os valores das massas:', u2)"
   ]
  },
  {
   "cell_type": "code",
   "execution_count": 5,
   "metadata": {},
   "outputs": [
    {
     "name": "stdout",
     "output_type": "stream",
     "text": [
      "Calculando o valor da massa de He-3 usando a função M(Z,A): 3.0031460974436794 u\n",
      "Comparando os valores das massas: 0.9957284163072511\n"
     ]
    }
   ],
   "source": [
    "#He-3\n",
    "\n",
    "m_He3 = 3.0160293191 \n",
    "u3 = M(2,3) / m_He3\n",
    "\n",
    "print('Calculando o valor da massa de He-3 usando a função M(Z,A):', M(2,3), 'u')\n",
    "print('Comparando os valores das massas:', u3)"
   ]
  },
  {
   "cell_type": "code",
   "execution_count": 6,
   "metadata": {},
   "outputs": [
    {
     "name": "stdout",
     "output_type": "stream",
     "text": [
      "Calculando o valor da massa de Co-60 usando a função M(Z,A): 59.93284663061147 u\n",
      "Comparando os valores das massas: 0.9999837225567682\n"
     ]
    }
   ],
   "source": [
    "#Co-60\n",
    "\n",
    "m_Co60 = 59.9338222 \n",
    "u4 = M(27,60) / m_Co60\n",
    "\n",
    "print('Calculando o valor da massa de Co-60 usando a função M(Z,A):', M(27,60), 'u')\n",
    "print('Comparando os valores das massas:', u4)"
   ]
  },
  {
   "cell_type": "code",
   "execution_count": 7,
   "metadata": {},
   "outputs": [
    {
     "name": "stdout",
     "output_type": "stream",
     "text": [
      "Calculando o valor da massa de Co-60 usando a função M(Z,A): 210.16647528036722 u\n",
      "Comparando os valores das massas: 1.0008743650242493\n"
     ]
    }
   ],
   "source": [
    "#Po-210\n",
    "\n",
    "m_Po210 = 209.9828736\n",
    "u5 = M(84,210) / m_Po210\n",
    "\n",
    "print('Calculando o valor da massa de Co-60 usando a função M(Z,A):', M(84,210), 'u')\n",
    "print('Comparando os valores das massas:', u5)"
   ]
  },
  {
   "cell_type": "markdown",
   "metadata": {},
   "source": [
    "#### Agora vamos calcular a energia de ligação e a energia de ligação por nucleon:"
   ]
  },
  {
   "cell_type": "code",
   "execution_count": 46,
   "metadata": {},
   "outputs": [],
   "source": [
    "def E(Z,A):\n",
    "    return ((1.007825 * Z + 1.008665 * (A - Z)) - M(Z,A)) * 931.5\n",
    "\n",
    "def DelE(Z,A):\n",
    "    return ((1.007825 * Z + 1.008665 * (A - Z)) - M(Z,A))/A * 931.5\n"
   ]
  },
  {
   "cell_type": "code",
   "execution_count": 48,
   "metadata": {},
   "outputs": [
    {
     "name": "stdout",
     "output_type": "stream",
     "text": [
      "Energia de ligação do U-238:  1631.7826936096715 MeV\n",
      "Energia de ligação por nucleon do U-238:  6.856229805082654 MeV\n"
     ]
    }
   ],
   "source": [
    "#U-238\n",
    "\n",
    "print('Energia de ligação do U-238: ', E(92,238), 'MeV') \n",
    "print('Energia de ligação por nucleon do U-238: ', DelE(92,238), 'MeV')"
   ]
  },
  {
   "cell_type": "code",
   "execution_count": 49,
   "metadata": {},
   "outputs": [
    {
     "name": "stdout",
     "output_type": "stream",
     "text": [
      "Energia de ligação do C-14:  57.91090903338337 MeV\n",
      "Energia de ligação por nucleon do C-14:  4.136493502384526 MeV\n"
     ]
    }
   ],
   "source": [
    "#C-14\n",
    "\n",
    "print('Energia de ligação do C-14: ', E(6,14), 'MeV') \n",
    "print('Energia de ligação por nucleon do C-14: ', DelE(6,14), 'MeV')"
   ]
  },
  {
   "cell_type": "code",
   "execution_count": 51,
   "metadata": {},
   "outputs": [
    {
     "name": "stdout",
     "output_type": "stream",
     "text": [
      "Energia de ligação do He-3:  19.718832731212267 MeV\n",
      "Energia de ligação por nucleon do He-3:  6.572944243737423 MeV\n"
     ]
    }
   ],
   "source": [
    "#He-3\n",
    "\n",
    "print('Energia de ligação do He-3: ', E(2,3), 'MeV') \n",
    "print('Energia de ligação por nucleon do He-3: ', DelE(2,3), 'MeV')"
   ]
  },
  {
   "cell_type": "code",
   "execution_count": 52,
   "metadata": {},
   "outputs": [
    {
     "name": "stdout",
     "output_type": "stream",
     "text": [
      "Energia de ligação do Co-60:  525.7137935854126 MeV\n",
      "Energia de ligação por nucleon do Co-60:  8.761896559756876 MeV\n"
     ]
    }
   ],
   "source": [
    "#Co-60\n",
    "\n",
    "print('Energia de ligação do Co-60: ', E(27,60), 'MeV') \n",
    "print('Energia de ligação por nucleon do Co-60: ', DelE(27,60), 'MeV')"
   ]
  },
  {
   "cell_type": "code",
   "execution_count": 53,
   "metadata": {},
   "outputs": [
    {
     "name": "stdout",
     "output_type": "stream",
     "text": [
      "Energia de ligação do Co-60:  1474.205611337901 MeV\n",
      "Energia de ligação por nucleon do Co-60:  7.020026720656672 MeV\n"
     ]
    }
   ],
   "source": [
    "#Po-210\n",
    "\n",
    "print('Energia de ligação do Co-60: ', E(84,210), 'MeV') \n",
    "print('Energia de ligação por nucleon do Co-60: ', DelE(84,210), 'MeV')"
   ]
  },
  {
   "cell_type": "code",
   "execution_count": null,
   "metadata": {},
   "outputs": [],
   "source": []
  }
 ],
 "metadata": {
  "kernelspec": {
   "display_name": "Python 3",
   "language": "python",
   "name": "python3"
  },
  "language_info": {
   "codemirror_mode": {
    "name": "ipython",
    "version": 3
   },
   "file_extension": ".py",
   "mimetype": "text/x-python",
   "name": "python",
   "nbconvert_exporter": "python",
   "pygments_lexer": "ipython3",
   "version": "3.7.4"
  }
 },
 "nbformat": 4,
 "nbformat_minor": 2
}
