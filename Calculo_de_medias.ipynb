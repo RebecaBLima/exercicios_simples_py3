{
 "cells": [
  {
   "cell_type": "markdown",
   "metadata": {},
   "source": [
    "## Cálculo de média artimética"
   ]
  },
  {
   "cell_type": "markdown",
   "metadata": {},
   "source": [
    "Aqui temos um método simples, mas trabalhoso para atualizar com as novas novas:"
   ]
  },
  {
   "cell_type": "code",
   "execution_count": null,
   "metadata": {},
   "outputs": [],
   "source": [
    "T1 = 4.5\n",
    "T2 = 10\n",
    "T3 = 10\n",
    "T4 = 5\n",
    "\n",
    "M = (T1+T2+T3+T4)/4\n",
    "\n",
    "print(\"Média dos trabalhos: \", M)"
   ]
  },
  {
   "cell_type": "markdown",
   "metadata": {},
   "source": [
    "Aqui obtemos o mesmo resultado, mas bem mais simples para atualizar, basta adicionar um novo elemento na lista  `notas` e gerar uma nova média defin\n"
   ]
  },
  {
   "cell_type": "code",
   "execution_count": 13,
   "metadata": {},
   "outputs": [
    {
     "name": "stdout",
     "output_type": "stream",
     "text": [
      "Média dos trabalhos:  7.3\n"
     ]
    }
   ],
   "source": [
    "notas = [4.5,10,10,5,7]\n",
    "N = float(len(notas))\n",
    "media_final = sum(notas)/N\n",
    "\n",
    "print(\"Média dos trabalhos: \", media_final)"
   ]
  },
  {
   "cell_type": "code",
   "execution_count": null,
   "metadata": {},
   "outputs": [],
   "source": []
  }
 ],
 "metadata": {
  "kernelspec": {
   "display_name": "Python 3",
   "language": "python",
   "name": "python3"
  },
  "language_info": {
   "codemirror_mode": {
    "name": "ipython",
    "version": 3
   },
   "file_extension": ".py",
   "mimetype": "text/x-python",
   "name": "python",
   "nbconvert_exporter": "python",
   "pygments_lexer": "ipython3",
   "version": "3.7.4"
  }
 },
 "nbformat": 4,
 "nbformat_minor": 2
}
